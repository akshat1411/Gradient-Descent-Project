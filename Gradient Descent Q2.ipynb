{
 "cells": [
  {
   "cell_type": "code",
   "execution_count": null,
   "metadata": {},
   "outputs": [],
   "source": []
  },
  {
   "cell_type": "markdown",
   "metadata": {},
   "source": [
    "# Importing Libraries and loading the dataset"
   ]
  },
  {
   "cell_type": "code",
   "execution_count": 27,
   "metadata": {},
   "outputs": [],
   "source": [
    "from sklearn import datasets\n",
    "import pandas as pd\n",
    "import numpy as np\n",
    "from sklearn import preprocessing\n",
    "standardscaler_object = preprocessing.StandardScaler()"
   ]
  },
  {
   "cell_type": "code",
   "execution_count": 28,
   "metadata": {},
   "outputs": [],
   "source": [
    "data_train = np.loadtxt(\"0000000000002419_training_ccpp_x_y_train.csv\",delimiter=\",\")"
   ]
  },
  {
   "cell_type": "code",
   "execution_count": 29,
   "metadata": {},
   "outputs": [],
   "source": [
    "#Seperating X and Y\n",
    "X_train = data_train[:,:-1]\n",
    "Y_train = data_train[:,-1]"
   ]
  },
  {
   "cell_type": "code",
   "execution_count": 30,
   "metadata": {},
   "outputs": [],
   "source": [
    "#Using Standard Scaler to scale the dataset\n",
    "standardscaler_object.fit(X_train)\n",
    "X_train = standardscaler_object.transform(X_train)\n",
    "#Adding the ones column for the intercept of every individual feature\n",
    "ones = np.ones((7176,1))\n",
    "X_train = np.hstack((X_train,ones))\n",
    "Y_train = Y_train.reshape((7176,1))"
   ]
  },
  {
   "cell_type": "markdown",
   "metadata": {},
   "source": [
    "# Creating Generic Gradient Design Function"
   ]
  },
  {
   "cell_type": "code",
   "execution_count": 31,
   "metadata": {},
   "outputs": [],
   "source": [
    "def gd(dataset,learning_rate,iterations):\n",
    "    N = len(dataset[0,:])\n",
    "    slope_vector = np.zeros((N-1,1)) \n",
    "    for i in range(iterations):\n",
    "        slope_vector = step_grad(dataset,learning_rate,slope_vector) \n",
    "        print(i,cost(dataset,slope_vector))\n",
    "    return slope_vector "
   ]
  },
  {
   "cell_type": "code",
   "execution_count": 32,
   "metadata": {},
   "outputs": [],
   "source": [
    "def step_grad(dataset,learning_rate,slope_vector):\n",
    "    M = len(dataset[:,0])\n",
    "    N = len(dataset[0,:])\n",
    "    for i in range(M):\n",
    "        m_slope = np.zeros((N-1,1))\n",
    "        for j in range(N-1):\n",
    "            X = dataset[i,0:N-1]\n",
    "            Y = dataset[i,N-1]\n",
    "            m_slope[j] = m_slope[j] + (-1)*(2/M)*(Y-np.dot(X,slope_vector))*(X[j])\n",
    "        slope_vector = slope_vector - learning_rate*m_slope   \n",
    "    return slope_vector        "
   ]
  },
  {
   "cell_type": "code",
   "execution_count": 33,
   "metadata": {},
   "outputs": [],
   "source": [
    "def cost(dataset,slope_vector):\n",
    "    M = len(dataset[:,0])\n",
    "    N = len(dataset[0,:])\n",
    "    total_cost = 0\n",
    "    for i in range(M):\n",
    "        X = dataset[i,0:N-1]\n",
    "        Y = dataset[i,N-1]\n",
    "        total_cost = total_cost + (1/M)*((Y-np.dot(X,slope_vector))**2)\n",
    "    return total_cost  "
   ]
  },
  {
   "cell_type": "code",
   "execution_count": 34,
   "metadata": {},
   "outputs": [],
   "source": [
    "data_set = np.hstack((X_train,Y_train)) "
   ]
  },
  {
   "cell_type": "code",
   "execution_count": 35,
   "metadata": {},
   "outputs": [
    {
     "name": "stdout",
     "output_type": "stream",
     "text": [
      "0 [138559.30870679]\n",
      "1 [92861.13975435]\n",
      "2 [62246.07858291]\n",
      "3 [41730.72656433]\n",
      "4 [27981.30232935]\n",
      "5 [18765.6425556]\n",
      "6 [12588.45074931]\n",
      "7 [8447.77157628]\n",
      "8 [5672.11898282]\n",
      "9 [3811.43959305]\n",
      "10 [2564.07659227]\n",
      "11 [1727.83269864]\n",
      "12 [1167.17473756]\n",
      "13 [791.25343819]\n",
      "14 [539.17100288]\n",
      "15 [370.10624529]\n",
      "16 [256.69553777]\n",
      "17 [180.59605392]\n",
      "18 [129.51178297]\n",
      "19 [95.20003747]\n",
      "20 [72.13518873]\n",
      "21 [56.61294655]\n",
      "22 [46.14993985]\n",
      "23 [39.08124102]\n",
      "24 [34.29057489]\n",
      "25 [31.02946851]\n",
      "26 [28.79601973]\n",
      "27 [27.25362984]\n",
      "28 [26.17652521]\n",
      "29 [25.41323657]\n",
      "30 [24.86211604]\n",
      "31 [24.45492366]\n",
      "32 [24.14582341]\n",
      "33 [23.90400551]\n",
      "34 [23.70873989]\n",
      "35 [23.54605933]\n",
      "36 [23.40653533]\n",
      "37 [23.28378647]\n",
      "38 [23.17347804]\n",
      "39 [23.07265089]\n",
      "40 [22.97927119]\n",
      "41 [22.89192828]\n",
      "42 [22.80963185]\n",
      "43 [22.73167571]\n",
      "44 [22.6575463]\n",
      "45 [22.58686117]\n",
      "46 [22.51932759]\n",
      "47 [22.45471467]\n",
      "48 [22.39283456]\n",
      "49 [22.33352974]\n",
      "50 [22.27666442]\n",
      "51 [22.22211869]\n",
      "52 [22.16978449]\n",
      "53 [22.11956294]\n",
      "54 [22.07136237]\n",
      "55 [22.02509701]\n",
      "56 [21.98068608]\n",
      "57 [21.93805307]\n",
      "58 [21.89712526]\n",
      "59 [21.85783337]\n",
      "60 [21.82011121]\n",
      "61 [21.78389549]\n",
      "62 [21.74912565]\n",
      "63 [21.71574364]\n",
      "64 [21.68369385]\n",
      "65 [21.65292294]\n",
      "66 [21.62337973]\n",
      "67 [21.59501515]\n",
      "68 [21.5677821]\n",
      "69 [21.54163538]\n",
      "70 [21.51653161]\n",
      "71 [21.49242914]\n",
      "72 [21.46928801]\n",
      "73 [21.44706985]\n",
      "74 [21.42573782]\n",
      "75 [21.40525657]\n",
      "76 [21.38559216]\n",
      "77 [21.36671198]\n",
      "78 [21.34858476]\n",
      "79 [21.33118047]\n",
      "80 [21.31447025]\n",
      "81 [21.29842643]\n",
      "82 [21.28302242]\n",
      "83 [21.2682327]\n",
      "84 [21.25403278]\n",
      "85 [21.24039911]\n",
      "86 [21.22730913]\n",
      "87 [21.21474115]\n",
      "88 [21.20267434]\n",
      "89 [21.19108872]\n",
      "90 [21.17996509]\n",
      "91 [21.16928503]\n",
      "92 [21.15903085]\n",
      "93 [21.14918556]\n",
      "94 [21.13973286]\n",
      "95 [21.13065708]\n",
      "96 [21.1219432]\n",
      "97 [21.11357678]\n",
      "98 [21.10554396]\n",
      "99 [21.09783145]\n"
     ]
    }
   ],
   "source": [
    "final_m = gd(data_set,.1,100)"
   ]
  },
  {
   "cell_type": "code",
   "execution_count": 36,
   "metadata": {},
   "outputs": [],
   "source": [
    "test_data = np.loadtxt(\"0000000000002419_test_ccpp_x_test.csv\",delimiter=\",\")"
   ]
  },
  {
   "cell_type": "code",
   "execution_count": 37,
   "metadata": {},
   "outputs": [],
   "source": [
    "#Transforming the Test\n",
    "test_data = standardscaler_object.transform(test_data)"
   ]
  },
  {
   "cell_type": "code",
   "execution_count": 41,
   "metadata": {},
   "outputs": [],
   "source": [
    "ones = np.ones((2392,1))\n",
    "test_data = np.hstack((test_data,ones))"
   ]
  },
  {
   "cell_type": "code",
   "execution_count": 42,
   "metadata": {},
   "outputs": [],
   "source": [
    "def Y_pred(test_data,finalslopes):\n",
    "    test_result = np.dot(test_data,finalslopes)\n",
    "    return test_result"
   ]
  },
  {
   "cell_type": "code",
   "execution_count": 43,
   "metadata": {},
   "outputs": [],
   "source": [
    "Y_answer = Y_pred(test_data,final_m)"
   ]
  },
  {
   "cell_type": "code",
   "execution_count": 46,
   "metadata": {},
   "outputs": [],
   "source": [
    "np.savetxt('prediction_GD_2.csv',Y_answer,delimiter = \",\")"
   ]
  },
  {
   "cell_type": "code",
   "execution_count": null,
   "metadata": {},
   "outputs": [],
   "source": []
  }
 ],
 "metadata": {
  "kernelspec": {
   "display_name": "Python 3",
   "language": "python",
   "name": "python3"
  },
  "language_info": {
   "codemirror_mode": {
    "name": "ipython",
    "version": 3
   },
   "file_extension": ".py",
   "mimetype": "text/x-python",
   "name": "python",
   "nbconvert_exporter": "python",
   "pygments_lexer": "ipython3",
   "version": "3.7.6"
  }
 },
 "nbformat": 4,
 "nbformat_minor": 4
}
